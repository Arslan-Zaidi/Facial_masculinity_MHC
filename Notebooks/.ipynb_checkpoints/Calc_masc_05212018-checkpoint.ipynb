{
 "cells": [
  {
   "cell_type": "code",
   "execution_count": 1,
   "metadata": {
    "collapsed": true
   },
   "outputs": [],
   "source": [
    "#Calculating Facial masculinity from Procrustes coordinates of 3D images\n",
    "library(data.table)\n",
    "library(plyr)\n",
    "library(ggplot2)"
   ]
  },
  {
   "cell_type": "code",
   "execution_count": 2,
   "metadata": {
    "collapsed": false
   },
   "outputs": [
    {
     "name": "stdout",
     "output_type": "stream",
     "text": [
      "\r",
      "Read 0.0% of 21450 rows\r",
      "Read 46.6% of 21450 rows\r",
      "Read 93.2% of 21450 rows\r",
      "Read 21450 rows and 6647 (of 6647) columns from 1.120 GB file in 00:00:21\n"
     ]
    }
   ],
   "source": [
    "#read in symspace - size corrected\n",
    "symql<-as.matrix(fread('~/Box Sync/MHC_paper/Data_from_git/SymShape_wosize_02102018.txt',header=F))\n",
    "symid<-read.table('~/Box Sync/MHC_paper/Data_from_git/SymShape_IDs_wosize_02102018.txt',header=F)\n",
    "\n",
    "#read in data file containing individual ddata, sex, height, weight, age etc. \n",
    "eurofam<-read.table('../Dataset/Euro_demographic_03292018.dat',header=T,sep=\"\\t\",stringsAsFactors=F)"
   ]
  },
  {
   "cell_type": "code",
   "execution_count": 3,
   "metadata": {
    "collapsed": true
   },
   "outputs": [],
   "source": [
    "#filter symql file for europeans\n",
    "sym.euro.index<-which(symid$V1%in%eurofam$IID)\n",
    "euroql<-symql[,sym.euro.index]\n",
    "\n",
    "#transpose so individuals are rows and qls are columns\n",
    "teuroql<-t(euroql)\n",
    "\n",
    "#create new dataframe for europeans\n",
    "euroid<-data.frame(IID=as.character(symid$V1[sym.euro.index]))\n",
    "euroid<-join(euroid,eurofam,by=\"IID\")\n",
    "\n",
    "#list indices corresponding to order in symql file for males and females so they can be separated later\n",
    "euro.m.index<-which(euroid$Sex==\"Male\")\n",
    "euro.f.index<-which(euroid$Sex==\"Female\")\n",
    "\n",
    "#create male consensus face\n",
    "cons.males1<-apply(teuroql[euro.m.index,],2,mean)\n",
    "cons.males<-matrix(cons.males1,7150,3,byrow=T)\n",
    "\n",
    "#create female consensus face\n",
    "cons.females<-matrix(apply(teuroql[euro.f.index,],2,mean),7150,3,byrow=T)\n",
    "\n",
    "#subtract female face from male face\n",
    "cons.diff<-cons.males-cons.females\n",
    "\n",
    "#define function to calculate euclidean distance of vector\n",
    "euclid<-function(x){sqrt(sum(x^2))} \n",
    "\n",
    "#calculate degree of sexual dimorphism per QL (geometric sexual dimorphism - gsd)\n",
    "gsd<-apply(cons.diff,1,euclid)"
   ]
  },
  {
   "cell_type": "code",
   "execution_count": 4,
   "metadata": {
    "collapsed": false
   },
   "outputs": [],
   "source": [
    "write.table(gsd,'../Results/Summary_dat/ql_gsd_03292018.txt',sep=\"\\t\",col.names=T,row.names=F,quote=F)"
   ]
  },
  {
   "cell_type": "code",
   "execution_count": null,
   "metadata": {
    "collapsed": true
   },
   "outputs": [],
   "source": [
    "#visualize "
   ]
  }
 ],
 "metadata": {
  "anaconda-cloud": {},
  "kernelspec": {
   "display_name": "R [conda env:penv]",
   "language": "R",
   "name": "conda-env-penv-r"
  },
  "language_info": {
   "codemirror_mode": "r",
   "file_extension": ".r",
   "mimetype": "text/x-r-source",
   "name": "R",
   "pygments_lexer": "r",
   "version": "3.3.2"
  }
 },
 "nbformat": 4,
 "nbformat_minor": 2
}
